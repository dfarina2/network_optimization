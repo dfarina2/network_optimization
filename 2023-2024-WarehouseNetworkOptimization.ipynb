{
 "cells": [
  {
   "cell_type": "markdown",
   "id": "7d51734c-5d49-4d0a-823a-3524a2953893",
   "metadata": {},
   "source": [
    "# Facility location problems examples #\n",
    "\n",
    "In the following, a couple of examples discusses in the course will be presented.\n",
    "The basic instructions to use the optimization software are provided.\n",
    "\n",
    "**The software is meant for didactic purposes only.**\n",
    "\n",
    "*v1.4 - Last update: 2024-04-26*\n"
   ]
  },
  {
   "cell_type": "markdown",
   "id": "01c55aae-6211-4c79-b3d6-46571e802566",
   "metadata": {},
   "source": [
    "Import the data of the scenario 1 and the optimization function (netopt)\n",
    "Press shift + enter in each cell to run the commands, or click on Run in the command bar"
   ]
  },
  {
   "cell_type": "code",
   "execution_count": null,
   "id": "3ad5b50d",
   "metadata": {},
   "outputs": [],
   "source": [
    "from netopt import netopt, print_solution, plot_map, print_dict\n",
    "from data.scenario_1 import warehouses, customers\n",
    "from data_structures import show_data, show_geo_map, calculate_dm, set_demand, set_capacity, set_all_capacities"
   ]
  },
  {
   "cell_type": "markdown",
   "id": "4b9feba4-3fc5-4ccd-804d-eab3abb4139c",
   "metadata": {},
   "source": [
    "Compute the linear distances using the geographical coordinates (longitude and latitude) of the locations"
   ]
  },
  {
   "cell_type": "code",
   "execution_count": null,
   "id": "848766db-0009-4e36-8f95-99fedf61a369",
   "metadata": {},
   "outputs": [],
   "source": [
    "distance = calculate_dm(warehouses, customers, use_haversine=True)"
   ]
  },
  {
   "cell_type": "markdown",
   "id": "ca73cc92-b5ae-4414-85ec-b632ae2ad2c4",
   "metadata": {},
   "source": [
    "**Plot the data**\n",
    "\n",
    "You can control the colors and shapes in the plot using the following parameters (also in the netopt function):\n",
    "- warehouse_marker=shape of the warehouse icons. Allowed values are s=square, o=circle, *=star, ^=triangle, v=inverted triangle. Default is s \n",
    "- warehouse_markercolor=color of the warehouse icons. Allowed values are red, green, blue, black, yellow. Default is red\n",
    "- warehouse_markersize=size of the warehouse icons. Default is 4\n",
    "- warehouse_active_markersize=size of the warehouse icons representing active (open) warehouses. Default is 5\n",
    "- customer_marker=shape of the customer icons. Default is o\n",
    "- customer_markercolor=color of the customer icons. Default is blue\n",
    "- customer_markersize=size of the customer icons. Default is 4\n",
    "\n",
    "If you don't specify the above parameters about the figures, the default values will be assumed"
   ]
  },
  {
   "cell_type": "code",
   "execution_count": null,
   "id": "52f58b0a",
   "metadata": {},
   "outputs": [],
   "source": [
    "plot_map(customers=customers,\n",
    "         warehouses=warehouses,\n",
    "         warehouse_marker='s',\n",
    "         warehouse_markercolor='red',\n",
    "         warehouse_markersize=6,\n",
    "         customer_marker='o',\n",
    "         customer_markercolor='blue',\n",
    "         customer_markersize=3)"
   ]
  },
  {
   "cell_type": "markdown",
   "id": "2a0553a1-00d1-4399-99ca-3375e82c4f0a",
   "metadata": {},
   "source": [
    "A better map can be shown using the following command. However, this map allows only for the\n",
    "visualization of location. To show the connections in the final solution you should use the plot_map command"
   ]
  },
  {
   "cell_type": "code",
   "execution_count": null,
   "id": "43081e83-9e15-4f43-8fe0-cb11755e58db",
   "metadata": {},
   "outputs": [],
   "source": [
    "show_geo_map(customers=customers, warehouses=warehouses, zoom=4)"
   ]
  },
  {
   "cell_type": "markdown",
   "id": "d11e3e3b-35b0-4176-9c96-a8acb32ea9d1",
   "metadata": {},
   "source": [
    "**Get the optmimal location of num_warehouses warehouses**\n",
    "\n",
    "You can change the value of parameter num_warehouses to test different scenario.\n",
    "The parameter warehouses, customers, and distance are loaded in the previous cell.\n",
    "You must define the objective: the objective mindistance minimizes the average weighted distance.\n",
    "By setting the parameter plot to True, the function returns a simplyfied picture of the solution along with a summary of the performance. \n",
    "If you don't want the picture, set plot to False.\n",
    "\n",
    "If you set hide_inactive to True the plot would not show inactive warehouses.\n",
    "Outflow in the results represents the quantity exiting from each warehouse.\n"
   ]
  },
  {
   "cell_type": "code",
   "execution_count": null,
   "id": "46748cb2",
   "metadata": {},
   "outputs": [],
   "source": [
    "results = netopt(num_warehouses=3,  # this is the p parameter in the p-median problem\n",
    "                 objective='mindistance',\n",
    "                 warehouses=warehouses,\n",
    "                 customers=customers,\n",
    "                 distance=distance,\n",
    "                 plot=True,\n",
    "                 hide_inactive=True,\n",
    "                 warehouse_marker='s',\n",
    "                 warehouse_markercolor='red',\n",
    "                 warehouse_markersize=6,\n",
    "                 warehouse_active_markersize=12,\n",
    "                 customer_marker='o',\n",
    "                 customer_markercolor='blue',\n",
    "                 customer_markersize=1)"
   ]
  },
  {
   "cell_type": "markdown",
   "id": "ffbceb46-a84e-45f5-bd9a-43d7c369c599",
   "metadata": {},
   "source": [
    "**Service levels**\n",
    "\n",
    "By adding the parameter distance_ranges the functions returns the % of the demand within the passed distance ranges. \n",
    "For example, if distance_ranges = [0, 100, 200] the functions return the percentage of demand in the ranges [0, 100], (100, 200], (200, 99999]\n",
    "where 99999 is used to represent a very long distance (i.e. infinite distance).\n",
    "\n",
    "By changing the parameter num_warehouses and distance_ranges you can test different scenarios.\n",
    "The parameter distance_ranges must be a list of increasing numbers. If you do not pass 0 as the first value\n",
    "it will be automatically added\n"
   ]
  },
  {
   "cell_type": "code",
   "execution_count": null,
   "id": "ef02058b",
   "metadata": {},
   "outputs": [],
   "source": [
    "results = netopt(num_warehouses=20,\n",
    "                 objective='mindistance',\n",
    "                 warehouses=warehouses,\n",
    "                 customers=customers,\n",
    "                 distance=distance,\n",
    "                 distance_ranges=[0, 100, 400, 800, 3200],\n",
    "                 plot=True,\n",
    "                 hide_inactive=True,\n",
    "                 warehouse_marker='s',\n",
    "                 warehouse_markercolor='red',\n",
    "                 warehouse_markersize=6,\n",
    "                 warehouse_active_markersize=12,\n",
    "                 customer_marker='o',\n",
    "                 customer_markercolor='blue',\n",
    "                 customer_markersize=1)"
   ]
  },
  {
   "cell_type": "markdown",
   "id": "c82a47c1-e00f-4433-bc55-b630b92e8dea",
   "metadata": {},
   "source": [
    "The results variable contains a summary of the optimization report"
   ]
  },
  {
   "cell_type": "code",
   "execution_count": null,
   "id": "2f243e93",
   "metadata": {},
   "outputs": [],
   "source": [
    "print(results)"
   ]
  },
  {
   "cell_type": "markdown",
   "id": "075f6021-d8bd-4093-9913-bebd0dd6fc4c",
   "metadata": {},
   "source": [
    "For a slightly better visualization of the results use print_solution as follows"
   ]
  },
  {
   "cell_type": "code",
   "execution_count": null,
   "id": "d55c593e",
   "metadata": {},
   "outputs": [],
   "source": [
    "print_solution(results)"
   ]
  },
  {
   "cell_type": "markdown",
   "id": "6759c5d0-a186-4882-9663-a73fee666959",
   "metadata": {},
   "source": [
    "**Force warehouses open or close**\n",
    "\n",
    "It is also possible to force warehouses to be open (for example, to force using the current warehouse)\n",
    "or closed (to avoid the selection of some candidates).\n",
    "\n",
    "The warehouses are references through their id, and must be passed as list [] (even for a single value, that is\n",
    "to force closed the warehouse with id 1 you should pass force_closed=[1])\n",
    "\n",
    "The id of the warehouses can be found in the 'warehouses' variable using the *show_data()* method.\n"
   ]
  },
  {
   "cell_type": "code",
   "execution_count": null,
   "id": "a69c97e2-bbf9-4601-bd05-77e69eb3432a",
   "metadata": {},
   "outputs": [],
   "source": [
    "show_data(warehouses)"
   ]
  },
  {
   "cell_type": "code",
   "execution_count": null,
   "id": "b4fe9d3d",
   "metadata": {},
   "outputs": [],
   "source": [
    "results = netopt(num_warehouses=3,\n",
    "                 objective='mindistance',\n",
    "                 warehouses=warehouses,\n",
    "                 customers=customers,\n",
    "                 distance=distance,\n",
    "                 force_open=[1],\n",
    "                 force_closed=[8, 3],\n",
    "                 distance_ranges=[0, 100, 400, 800, 3200],\n",
    "                 plot=True,\n",
    "                 hide_inactive=True,\n",
    "                 warehouse_marker='s',\n",
    "                 warehouse_markercolor='red',\n",
    "                 warehouse_markersize=6,\n",
    "                 warehouse_active_markersize=12,\n",
    "                 customer_marker='o',\n",
    "                 customer_markercolor='blue',\n",
    "                 customer_markersize=1)"
   ]
  },
  {
   "cell_type": "markdown",
   "id": "4caa65e3-8cad-4188-9682-87cc1c2cbdbd",
   "metadata": {},
   "source": [
    "**Mutually exclusive facilities**\n",
    "\n",
    "In some cases, some facilities may be _mutually exclusive_, that is the presence of one facility excludes the activation of a subset of other facilities.\n",
    "\n",
    "For example, let's assume that facilities 1, 14 and 15 (i.e. tha facilities in the solution of the previous cell) are mutually exclusive (either one of them or none of them can be selected). This can be formulated by passing the parameter\n",
    "\n",
    "_mutually_exclusive = [(1, 14, 15)]_\n"
   ]
  },
  {
   "cell_type": "code",
   "execution_count": null,
   "id": "9da1c5c4-c5e0-4633-8f48-3afeeca07dd7",
   "metadata": {},
   "outputs": [],
   "source": [
    "results = netopt(num_warehouses=3,\n",
    "                 objective='mindistance',\n",
    "                 warehouses=warehouses,\n",
    "                 customers=customers,\n",
    "                 distance=distance,\n",
    "                 force_open=[1],\n",
    "                 force_closed=[8, 3],\n",
    "                 distance_ranges=[0, 100, 400, 800, 3200],\n",
    "                 mutually_exclusive=[(1, 14, 15)],\n",
    "                 plot=True,\n",
    "                 hide_inactive=True,\n",
    "                 warehouse_marker='s',\n",
    "                 warehouse_markercolor='red',\n",
    "                 warehouse_markersize=6,\n",
    "                 warehouse_active_markersize=12,\n",
    "                 customer_marker='o',\n",
    "                 customer_markercolor='blue',\n",
    "                 customer_markersize=1)"
   ]
  },
  {
   "cell_type": "markdown",
   "id": "e27df0cc-ad07-4451-97dc-42b29b71c3e0",
   "metadata": {},
   "source": [
    "It is possible to set any number of mutually exclusive sets (each set is a tuple in a list). For example:\n",
    "\n",
    "_mutually_exclusive = [(1, 14, 15), (3, 4), (5, 6, 9, 11)]_\n",
    "\n",
    "This constraint is useful when we have different alternatives (for example, different sizes) for the same facility."
   ]
  },
  {
   "cell_type": "markdown",
   "id": "4cb3ff21-01b3-4b6e-9b47-a90512e5b118",
   "metadata": {},
   "source": [
    "**Covering problem**\n",
    "\n",
    "The objective maxcover maximises the % of demand within a distance specified by the high_service_distance parameter. \n",
    "If you set the objective to maxcover and don't specify the high_service_distance parameter you'll get an error.\n",
    "\n",
    "You should also set hide_flows to True to avoid the display of the allocations of customers to warehouses."
   ]
  },
  {
   "cell_type": "code",
   "execution_count": null,
   "id": "92d0337a",
   "metadata": {},
   "outputs": [],
   "source": [
    "results = netopt(num_warehouses=5,\n",
    "                 objective='maxcover',\n",
    "                 warehouses=warehouses,\n",
    "                 customers=customers,\n",
    "                 distance=distance,\n",
    "                 high_service_distance=800,\n",
    "                 avg_service_distance=5000,\n",
    "                 distance_ranges=[0, 100, 400, 800, 3200],\n",
    "                 force_open=[],\n",
    "                 force_closed=[],\n",
    "                 plot=True,\n",
    "                 hide_inactive=True,\n",
    "                 hide_flows=True,\n",
    "                 warehouse_marker='s',\n",
    "                 warehouse_markercolor='red',\n",
    "                 warehouse_markersize=6,\n",
    "                 warehouse_active_markersize=12,\n",
    "                 customer_marker='o',\n",
    "                 customer_markercolor='blue',\n",
    "                 customer_markersize=1)\n",
    "\n",
    "#print_solution(results)\n"
   ]
  },
  {
   "cell_type": "markdown",
   "id": "356d4a4d-6957-45d0-a22d-494b8540500f",
   "metadata": {},
   "source": [
    "If you know a little bit of python (or you are willing to learn a little bit), \n",
    "you can easily automate experiments.\n",
    "For example, compute the average weighted distance for several values of *p*\n"
   ]
  },
  {
   "cell_type": "code",
   "execution_count": null,
   "id": "ac94456c",
   "metadata": {},
   "outputs": [],
   "source": [
    "for p in [1, 2, 3, 4, 5]:\n",
    "    results = netopt(num_warehouses=p,\n",
    "                 objective='mindistance',\n",
    "                 warehouses=warehouses,\n",
    "                 customers=customers,\n",
    "                 distance=distance,\n",
    "                 force_open=[],\n",
    "                 force_closed=[],\n",
    "                 plot=False)\n",
    "    print()\n",
    "    print(f\"*** AVG WEIGHTED DISTANCE FOR p={p}: {results['avg_weighted_distance']} ***\")\n",
    "    print()\n"
   ]
  },
  {
   "cell_type": "markdown",
   "id": "d5708fd3-c5c3-4210-88b2-840b46fc78ba",
   "metadata": {},
   "source": [
    "You can collect data from different experiments and the plot it."
   ]
  },
  {
   "cell_type": "code",
   "execution_count": null,
   "id": "ba5b313a-ac7d-482a-9124-33381d3a94de",
   "metadata": {},
   "outputs": [],
   "source": [
    "data = {}\n",
    "for p in [1, 2, 3, 4, 5]:\n",
    "    results = netopt(num_warehouses=p,\n",
    "                 objective='mindistance',\n",
    "                 warehouses=warehouses,\n",
    "                 customers=customers,\n",
    "                 distance=distance,\n",
    "                 force_open=[],\n",
    "                 plot=False)\n",
    "    data[p] = results['avg_weighted_distance']\n",
    "    \n",
    "# Plot the results\n",
    "import matplotlib.pyplot as plt\n",
    "plt.plot(data.keys(), data.values())"
   ]
  },
  {
   "cell_type": "markdown",
   "id": "4219ff23-e299-452b-b211-5a2d2a679521",
   "metadata": {},
   "source": [
    "# Adding capacity #"
   ]
  },
  {
   "cell_type": "markdown",
   "id": "c7874091-5555-4989-81c9-c6a38a2a00ed",
   "metadata": {},
   "source": [
    "Import the data for the problem with capacities"
   ]
  },
  {
   "cell_type": "code",
   "execution_count": null,
   "id": "afc88bd3-ce25-4844-9938-3bf1b818525b",
   "metadata": {},
   "outputs": [],
   "source": [
    "from data.scenario_5 import warehouses, customers"
   ]
  },
  {
   "cell_type": "markdown",
   "id": "ed4fa8e4-f5ba-48ad-9e65-0cc49d4294eb",
   "metadata": {},
   "source": [
    "Compute the distance matrix"
   ]
  },
  {
   "cell_type": "code",
   "execution_count": null,
   "id": "8c52f709-082b-4295-a45a-4e8b0a0a2090",
   "metadata": {},
   "outputs": [],
   "source": [
    "distance = calculate_dm(warehouses, customers, use_haversine=True)"
   ]
  },
  {
   "cell_type": "code",
   "execution_count": null,
   "id": "f9958869-83b2-498b-9e08-ba6b9c4c2273",
   "metadata": {},
   "outputs": [],
   "source": [
    "show_geo_map(customers=customers, warehouses=warehouses, zoom=4)"
   ]
  },
  {
   "cell_type": "markdown",
   "id": "ffda6097-15be-465f-a42b-c08556f0a403",
   "metadata": {},
   "source": [
    "Solve a p-median problem excluding the capacities: since the warehouses have the *capacity* attributes set, we need to instruct the solver to skip such an attribute in solvgin the problem by settin *force_uncapacitated=True*)."
   ]
  },
  {
   "cell_type": "code",
   "execution_count": null,
   "id": "fb3e6e7e-669c-49f3-91f8-19b34f3d20d8",
   "metadata": {},
   "outputs": [],
   "source": [
    "results = netopt(num_warehouses=5,\n",
    "                 warehouses=warehouses,\n",
    "                 customers=customers,\n",
    "                 distance=distance,\n",
    "                 objective='mindistance',\n",
    "                 force_uncapacitated=True,\n",
    "                 distance_ranges=[0, 800, 1200],\n",
    "                 plot=True,\n",
    "                 warehouse_markersize=5,\n",
    "                 warehouse_active_markersize=8,\n",
    "                hide_inactive=True)\n",
    "print_dict(results)"
   ]
  },
  {
   "cell_type": "markdown",
   "id": "f7c195b2-cbb3-4f91-8606-c88949203a39",
   "metadata": {},
   "source": [
    "We would like to spread the quantity more evenly\n",
    "Let's limit the capacity of the five warehouses to 1/5 of the total demand"
   ]
  },
  {
   "cell_type": "code",
   "execution_count": null,
   "id": "c842b8ec-c6bb-4157-af06-897ca97a546e",
   "metadata": {},
   "outputs": [],
   "source": [
    "set_all_capacities(warehouses, 20_000_000)"
   ]
  },
  {
   "cell_type": "markdown",
   "id": "e0a4ba99-d5a4-46c9-a154-0751fb350681",
   "metadata": {},
   "source": [
    "Solve again a mindistance problem with capacities, enforcing the single sourcing constraint. This constraint is implicit, you don't need to change anything."
   ]
  },
  {
   "cell_type": "code",
   "execution_count": null,
   "id": "9810c69f-a7c3-46e5-98e8-e502c253acc4",
   "metadata": {},
   "outputs": [],
   "source": [
    "results = netopt(num_warehouses=5,\n",
    "                 warehouses=warehouses,\n",
    "                 customers=customers,\n",
    "                 distance=distance,\n",
    "                 objective='mindistance',\n",
    "                 force_uncapacitated=False,\n",
    "                 distance_ranges=[0, 800, 1200],\n",
    "                 plot=True,\n",
    "                 warehouse_markersize=5,\n",
    "                 warehouse_active_markersize=8)\n",
    "print_dict(results)"
   ]
  },
  {
   "cell_type": "markdown",
   "id": "cc1b145f-3cfc-4f3c-8025-4529a56ed7a7",
   "metadata": {},
   "source": [
    "The model in **infeasible** that is there is no solution.\n",
    "\n",
    "Let's increase the capacity of all warehouses to 30.000.000 units and solve again."
   ]
  },
  {
   "cell_type": "code",
   "execution_count": null,
   "id": "1787b385-62d6-4509-aa6f-a96badf7d3ee",
   "metadata": {},
   "outputs": [],
   "source": [
    "set_all_capacities(warehouses, 30_000_000)\n",
    "\n",
    "results = netopt(num_warehouses=5,\n",
    "                 warehouses=warehouses,\n",
    "                 customers=customers,\n",
    "                 distance=distance,\n",
    "                 objective='mindistance',\n",
    "                 force_uncapacitated=False,\n",
    "                 hide_inactive=True,\n",
    "                 distance_ranges=[0, 800, 1200],\n",
    "                 plot=True,\n",
    "                 warehouse_markersize=5,\n",
    "                 warehouse_active_markersize=8)\n",
    "print_dict(results)"
   ]
  },
  {
   "cell_type": "markdown",
   "id": "63f02c28-ff72-486d-8536-af58174e7856",
   "metadata": {},
   "source": [
    "Now the model is feasible"
   ]
  },
  {
   "cell_type": "markdown",
   "id": "7e4c5e4c-8819-49cb-ad9d-88be2a4cfcb8",
   "metadata": {},
   "source": [
    "**Remove the single-source constraint**\n",
    "\n",
    "The model implicitly stipulates the single-source constraint (each customer is served by exactly one warehouse).\n",
    "When dealing with capacities, it may be useful to relax this constraint to better exploit the available capacity.\n",
    "\n",
    "To relax the single-source constraint set *force_single_sourcing=False*\n",
    "\n",
    "We try solving again with capacity equal to 20.000.000 for all warehouses and no single-source constraint."
   ]
  },
  {
   "cell_type": "code",
   "execution_count": null,
   "id": "ce44b9f4-d3e2-4b78-9cc5-6e87702d44d2",
   "metadata": {},
   "outputs": [],
   "source": [
    "set_all_capacities(warehouses, 20_000_000)\n",
    "\n",
    "results = netopt(num_warehouses=5,\n",
    "                 warehouses=warehouses,\n",
    "                 customers=customers,\n",
    "                 distance=distance,\n",
    "                 objective='mindistance',\n",
    "                 distance_ranges=[0, 800, 1200],\n",
    "                 force_single_sourcing=False,\n",
    "                 plot=True,\n",
    "                 hide_inactive=True,\n",
    "                 warehouse_markersize=5,\n",
    "                 warehouse_active_markersize=8)\n",
    "print_dict(results)"
   ]
  },
  {
   "cell_type": "markdown",
   "id": "7e6256a0-eb91-430b-b15e-924c7ea8587a",
   "metadata": {},
   "source": [
    "Now the model is feasible"
   ]
  },
  {
   "cell_type": "markdown",
   "id": "22417648-dbeb-4cea-9f75-bec5552323a0",
   "metadata": {},
   "source": [
    "**Feel free to play with the parameters. If you find any error, please report it to me.**"
   ]
  },
  {
   "cell_type": "code",
   "execution_count": 6,
   "id": "b9a1067e-7af1-4899-91e0-920716de5b14",
   "metadata": {},
   "outputs": [],
   "source": []
  }
 ],
 "metadata": {
  "kernelspec": {
   "display_name": "Python 3 (ipykernel)",
   "language": "python",
   "name": "python3"
  },
  "language_info": {
   "codemirror_mode": {
    "name": "ipython",
    "version": 3
   },
   "file_extension": ".py",
   "mimetype": "text/x-python",
   "name": "python",
   "nbconvert_exporter": "python",
   "pygments_lexer": "ipython3",
   "version": "3.11.6"
  }
 },
 "nbformat": 4,
 "nbformat_minor": 5
}
