{
 "cells": [
  {
   "cell_type": "markdown",
   "id": "d1360d74",
   "metadata": {},
   "source": [
    "# Company Z Case Study"
   ]
  },
  {
   "cell_type": "markdown",
   "id": "8ee49d7f",
   "metadata": {},
   "source": [
    "As part of the Supply Chain Management and Logistics Network Design course - Master's degree in Management Engineering - University of Bergamo\n",
    "\n",
    "(c) Prof. Roberto Pinto"
   ]
  },
  {
   "cell_type": "markdown",
   "id": "ea3bbf46",
   "metadata": {},
   "source": [
    "**This notebook contains all the data and functions required by the Company Z case study. To use this notebook, please refer to the documentation provided during the course**"
   ]
  },
  {
   "cell_type": "code",
   "execution_count": null,
   "id": "1f869c9d",
   "metadata": {},
   "outputs": [],
   "source": [
    "# Prepare the notebook\n",
    "!git clone --branch projectwork https://github.com/ropinotex/network_optimization.git\n",
    "import sys\n",
    "sys.path.insert(0,'/content/network_optimization')\n",
    "\n",
    "!pip install -r /content/network_optimization/requirements.txt\n",
    "    "
   ]
  },
  {
   "cell_type": "code",
   "execution_count": null,
   "id": "8bef4cd2",
   "metadata": {},
   "outputs": [],
   "source": [
    "# Import functions\n",
    "from netopt import netopt, print_solution, plot_map\n",
    "from data_structures import (show_data, show_geo_map, set_capacity, set_all_capacities, set_fixed_cost,\n",
    "                             set_all_fixed_costs, scale_demand, scale_all_demands, set_demand,\n",
    "                             set_all_demands, calculate_dm, show_assignments, get_demand, get_capacity)\n",
    "\n",
    "# Import data\n",
    "# The variable customers_as_is contains the existing customers, while the variable customers_after_merge contains both\n",
    "# existing and future customers after the acquisition\n",
    "\n",
    "# The variable warehouses_as_is contains the Company's Z existing facilities, whereas\n",
    "# the variable warehouses_after_merge contains all the facilities from Company Z and Company Y\n",
    "# Finally, the variable warehouses_after_merge_plus_alternatives contains all the facilities from Company Z and Company Y \n",
    "# plus some other alternatives. In particular, the facilities Bergamo_extended and Verona_extended should be\n",
    "# considered as the versions with higher capacity of the Bergamo and Verona facilities, respectively\n",
    "\n",
    "from data.projectwork22_23_data import warehouses_as_is, warehouses_after_merge, warehouses_after_merge_plus_alternatives, customers_as_is, customers_after_merge\n"
   ]
  },
  {
   "cell_type": "code",
   "execution_count": null,
   "id": "53675952",
   "metadata": {},
   "outputs": [],
   "source": [
    "# Once variables are imported, you can use and display\n",
    "# Explore the aggregated data \n",
    "print(f\"TOTAL DEMAND FROM EXISTING CUSTOMERS: {get_demand(customers=customers_as_is)} pallets\")\n",
    "print(f\"TOTAL CAPACITY EXISTING NETWORK: {get_capacity(warehouses=warehouses_as_is)} pallets\")"
   ]
  },
  {
   "cell_type": "code",
   "execution_count": null,
   "id": "c9fd4211",
   "metadata": {},
   "outputs": [],
   "source": [
    "# Dispaly more details\n",
    "show_data(warehouses_after_merge_plus_alternatives)"
   ]
  },
  {
   "cell_type": "code",
   "execution_count": null,
   "id": "399395e5",
   "metadata": {},
   "outputs": [],
   "source": [
    "# Visualize the data. You can move the map with the mouse and click on the icons for information about the location\n",
    "show_geo_map(customers=customers_as_is, warehouses=warehouses_as_is, zoom=8)"
   ]
  },
  {
   "cell_type": "code",
   "execution_count": null,
   "id": "75240b50",
   "metadata": {},
   "outputs": [],
   "source": [
    "# The functions available are the following:\n",
    "# calculate_dm() - calculates the distance matrix between origins and destinations\n",
    "# netopt() - solves the optimization model\n",
    "# set_capacity() - changes the capacity of a warehouse\n",
    "# set_all_capacities() - changes the capacity of all warehouses\n",
    "# set_fixed_cost() - changes the yearly fixed cost of a warehouse\n",
    "# set_all_fixed_costs() - changes the yearly fixed cost of all warehouses\n",
    "# scale_demand() - scales the demand of a customer by a factor\n",
    "# scale_all_demands() - scales the demand of all customer by a factor\n",
    "# set_demand() - changes the demand of a customer\n",
    "# set_all_demands() - changes the demand of all customers\n",
    "# print_solution() - prints detail of the solution\n",
    "# plot_map() - plots the map of customers and warehouses\n",
    "# show_geo_map() - plots the map of customers and warehouses on a geographic map\n",
    "# show_assignments() - displays the assignements in tabular form\n",
    "# show_data() - shows the data in tabular form\n",
    "# get_demand() - returns the total demand of a set of customers\n",
    "# get_capacity() - returns the total capacity of a set of warehouses\n",
    "\n",
    "\n",
    "# Type the function name without parentheses and preceeded by ? to access a short description of the function and the parameters\n",
    "# Example:\n",
    "?netopt"
   ]
  },
  {
   "cell_type": "code",
   "execution_count": null,
   "id": "dc7f1944",
   "metadata": {},
   "outputs": [],
   "source": [
    "# In order to use the netopt function, you need to compute the distance matrices\n",
    "# The distance matrixes are necessary for the model: if you change the data, you should calculate the matrices again\n",
    "dist_as_is = calculate_dm(warehouses=warehouses_as_is, customers=customers_as_is)\n",
    "dist_after_merge = calculate_dm(warehouses=warehouses_after_merge, customers=customers_after_merge)\n",
    "dist_after_merge_plus_alternatives = calculate_dm(warehouses=warehouses_after_merge_plus_alternatives, customers=customers_after_merge)"
   ]
  },
  {
   "cell_type": "code",
   "execution_count": null,
   "id": "8a359516",
   "metadata": {},
   "outputs": [],
   "source": [
    "# The following command \"solves\" the as-is scenario before the merging\n",
    "# You can play with the arguments to address your case\n",
    "\n",
    "results = netopt(num_warehouses=3,\n",
    "                 warehouses=warehouses_as_is,\n",
    "                 customers=customers_as_is,\n",
    "                 distance=dist_as_is,\n",
    "                 objective='mincost',\n",
    "                 distance_ranges=[],\n",
    "                 high_service_distance=None,\n",
    "                 avg_service_distance=None,\n",
    "                 max_service_distance=None,\n",
    "                 force_single_sourcing=True,\n",
    "                 force_uncapacitated=False,\n",
    "                 force_allocations=[],\n",
    "                 force_open=[],\n",
    "                 force_closed=[],\n",
    "                 ignore_fixed_cost=False,\n",
    "                 plot=True,\n",
    "                 warehouse_markersize=5,\n",
    "                 warehouse_active_markersize=8,\n",
    "                 hide_inactive=True)\n",
    "print_solution(results)"
   ]
  },
  {
   "cell_type": "code",
   "execution_count": null,
   "id": "fadebfbf",
   "metadata": {},
   "outputs": [],
   "source": [
    "# Visualize the results in table form\n",
    "show_assignments(results)"
   ]
  },
  {
   "cell_type": "code",
   "execution_count": null,
   "id": "23acef64",
   "metadata": {},
   "outputs": [],
   "source": []
  }
 ],
 "metadata": {
  "kernelspec": {
   "display_name": "Python 3 (ipykernel)",
   "language": "python",
   "name": "python3"
  },
  "language_info": {
   "codemirror_mode": {
    "name": "ipython",
    "version": 3
   },
   "file_extension": ".py",
   "mimetype": "text/x-python",
   "name": "python",
   "nbconvert_exporter": "python",
   "pygments_lexer": "ipython3",
   "version": "3.8.10"
  }
 },
 "nbformat": 4,
 "nbformat_minor": 5
}
